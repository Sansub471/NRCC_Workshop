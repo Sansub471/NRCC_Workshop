{
  "nbformat": 4,
  "nbformat_minor": 0,
  "metadata": {
    "colab": {
      "provenance": [],
      "collapsed_sections": [
        "dPUQgN_zMhot",
        "VRdEoGvSMY5a"
      ]
    },
    "kernelspec": {
      "name": "python3",
      "display_name": "Python 3"
    },
    "language_info": {
      "name": "python"
    }
  },
  "cells": [
    {
      "cell_type": "markdown",
      "source": [
        "### Coding Practice"
      ],
      "metadata": {
        "id": "VRdEoGvSMY5a"
      }
    },
    {
      "cell_type": "markdown",
      "source": [
        "### MCQs"
      ],
      "metadata": {
        "id": "dPUQgN_zMhot"
      }
    },
    {
      "cell_type": "markdown",
      "source": [
        "*Question 1:* What does \"print\" function do in Python?\n",
        "\n",
        "> a. It calculates mathematical expressions\n",
        "\n",
        "> b. It allows the user to input data\n",
        "\n",
        "> c. It prints the output to the console\n",
        "\n",
        "> d. It defines variables\n",
        "\n",
        "\n"
      ],
      "metadata": {
        "id": "O-JlDqLsNkAS"
      }
    },
    {
      "cell_type": "markdown",
      "source": [
        "Double-click (or enter) to write answer here \\\\\n",
        "*Answer:*c"
      ],
      "metadata": {
        "id": "iLbk_xv9VMhr"
      }
    },
    {
      "cell_type": "markdown",
      "source": [
        "*Question 2:* What are variables used for in Python?\n",
        "\n",
        "> a. To store data\n",
        "\n",
        "> b. To define functions\n",
        "\n",
        "> c. To write comments\n",
        "\n",
        "> d. To create loops"
      ],
      "metadata": {
        "id": "IRN946mpSGes"
      }
    },
    {
      "cell_type": "markdown",
      "source": [
        "*Answer:*a"
      ],
      "metadata": {
        "id": "j76ZAlTTVqWe"
      }
    },
    {
      "cell_type": "markdown",
      "source": [
        "*Question 3:* How can you determine the data type of a variable in Python?\n",
        "\n",
        "> a. Using the *type()* function\n",
        "\n",
        "> b. Using the *id()* function\n",
        "\n",
        "> c. Using the *print()* function\n",
        "\n",
        "> d. Using the *input()* function"
      ],
      "metadata": {
        "id": "E4qAV_dnST_m"
      }
    },
    {
      "cell_type": "markdown",
      "source": [
        "*Answer:*a"
      ],
      "metadata": {
        "id": "wBnO9m6qV13Y"
      }
    },
    {
      "cell_type": "markdown",
      "source": [
        "*Question 4:* Which of the following is NOT a primitive data type in Python?\n",
        "\n",
        "> a. Integer\n",
        "\n",
        "> b. Float\n",
        "\n",
        "> c. String\n",
        "\n",
        "> d. List"
      ],
      "metadata": {
        "id": "VD3QYbV9SaAv"
      }
    },
    {
      "cell_type": "markdown",
      "source": [
        "*Answer:*d"
      ],
      "metadata": {
        "id": "SSOJm_SeV4Be"
      }
    },
    {
      "cell_type": "markdown",
      "source": [
        "*Question 5:* Which data type represents whole numbers in Python?\n",
        "\n",
        "> a. String\n",
        "\n",
        "> b. Float\n",
        "\n",
        "> c. Integer\n",
        "\n",
        "> d. Boolean"
      ],
      "metadata": {
        "id": "Cn2kq6v7Sc_i"
      }
    },
    {
      "cell_type": "markdown",
      "source": [
        "*Answer:*c"
      ],
      "metadata": {
        "id": "90frEFCOV9Gs"
      }
    },
    {
      "cell_type": "markdown",
      "source": [
        "*Question 6:* Which function is used to convert a variable to a string data type in Python?\n",
        "\n",
        "> a. *int()*\n",
        "\n",
        "> b. *str()*\n",
        "\n",
        "> c. *float()*\n",
        "\n",
        "> d. *type()*"
      ],
      "metadata": {
        "id": "9EEsQocqSfZ1"
      }
    },
    {
      "cell_type": "markdown",
      "source": [
        "*Answer:*b"
      ],
      "metadata": {
        "id": "kHXBzouFWB8l"
      }
    },
    {
      "cell_type": "markdown",
      "source": [
        "*Question 7:* What are the logical operators in Python?\n",
        "\n",
        "> a. +, -, *, /\n",
        "\n",
        "> b. and, or, not\n",
        "\n",
        "> c. ==, !=, <, >\n",
        "\n",
        "> d. =, +=, -=, *="
      ],
      "metadata": {
        "id": "VGwpgYR1Sh9B"
      }
    },
    {
      "cell_type": "markdown",
      "source": [
        "*Answer:*b"
      ],
      "metadata": {
        "id": "KYNrEGH5WFkj"
      }
    },
    {
      "cell_type": "markdown",
      "source": [
        "*Question 8:* Which function displays a message to user and waits for user to input a response?\n",
        "\n",
        "> a. *print()*\n",
        "\n",
        "> b. *input()*\n",
        "\n",
        "> c. *type()*\n",
        "\n",
        "> d. *int()*"
      ],
      "metadata": {
        "id": "yWlGS2iVSj9x"
      }
    },
    {
      "cell_type": "markdown",
      "source": [
        "*Answer:*b"
      ],
      "metadata": {
        "id": "M-3C93CjWHg4"
      }
    },
    {
      "cell_type": "markdown",
      "source": [
        "*Question 9:* What is the naming convention for constants in Python?\n",
        "\n",
        "> a. Constants should be written in lowercase letters\n",
        "\n",
        "> b. Constants should be written in uppercase letters\n",
        "\n",
        "> c. Constants should be written with a leading underscore\n",
        "\n",
        "> d. Constants should be written with a trailing underscore"
      ],
      "metadata": {
        "id": "AbpfQXP3Slr7"
      }
    },
    {
      "cell_type": "markdown",
      "source": [
        "*Answer:*b"
      ],
      "metadata": {
        "id": "Z_QljGNBWLvn"
      }
    },
    {
      "cell_type": "markdown",
      "source": [
        "*Question 10:* What is the purpose of comments in Python code?\n",
        "\n",
        "> a. To execute certain lines of code\n",
        "\n",
        "> b. To provide documentation\n",
        "\n",
        "> c. To define variables\n",
        "\n",
        "> d. To create loops"
      ],
      "metadata": {
        "id": "MY7WnQg8SneH"
      }
    },
    {
      "cell_type": "markdown",
      "source": [
        "*Answer:*b"
      ],
      "metadata": {
        "id": "90NRTwsiWNpj"
      }
    },
    {
      "cell_type": "markdown",
      "source": [
        "1. Write a program that prints \"Hello, World!\""
      ],
      "metadata": {
        "id": "qj6NsOVqg7C9"
      }
    },
    {
      "cell_type": "code",
      "source": [
        "print('Hello, World!')"
      ],
      "metadata": {
        "id": "qUYuBEwcg5vU",
        "colab": {
          "base_uri": "https://localhost:8080/"
        },
        "outputId": "0e9f458d-180d-40ac-f259-e1a6706f5a97"
      },
      "execution_count": null,
      "outputs": [
        {
          "output_type": "stream",
          "name": "stdout",
          "text": [
            "Hello, World!\n"
          ]
        }
      ]
    },
    {
      "cell_type": "markdown",
      "source": [
        "2. Write a program that takes two inputs from the user and Prints the values."
      ],
      "metadata": {
        "id": "4ACAi9hMNk7Q"
      }
    },
    {
      "cell_type": "code",
      "source": [
        "# Use input() function to take first value from user\n",
        "first_value = input(\"Enter the first value: \")\n",
        "\n",
        "# Print the first_value\n",
        "print(\"The first value is \", first_value)\n",
        "\n",
        "second_value = input(\"Enter the second value: \")\n",
        "print(f'The second value is {second_value}')"
      ],
      "metadata": {
        "id": "l0Gn1R9WNj3v",
        "colab": {
          "base_uri": "https://localhost:8080/"
        },
        "outputId": "dbcfe8b6-6c9d-4b2d-ec02-57fd54f7956e"
      },
      "execution_count": null,
      "outputs": [
        {
          "output_type": "stream",
          "name": "stdout",
          "text": [
            "Enter the first value: 45\n",
            "The first value is  45\n",
            "Enter the second value: Nepal\n",
            "The second value is Nepal\n"
          ]
        }
      ]
    },
    {
      "cell_type": "markdown",
      "source": [
        "3. Write a program that prompts the user to enter a value of any data type (integer, float, or string), store the value in a variable named *user_input*. Perform the following operations sequentially based on the user's input.\n",
        "\n",
        "> a. Determine the data type of the entered value. Print the value entered by user and its data type.\n",
        "\n",
        "> b. Convert the *user_input* to a float. Print the converted value and its data type.\n",
        "\n",
        "> c. Convert the previously calculated float value of *user_input* to an integer. Print the converted value and its data type.\n"
      ],
      "metadata": {
        "id": "QLGt5fLGlqCQ"
      }
    },
    {
      "cell_type": "code",
      "source": [
        "# Use input() function to take input from user\n",
        "user_input = input(\"Give me your input: \")\n",
        "\n",
        "# Question a.\n",
        "data_type = type(user_input)\n",
        "\n",
        "# Print the value of user_input and its data type\n",
        "print(\"The entered value is \", user_input)\n",
        "print(\"The data type of user_input is \", data_type)"
      ],
      "metadata": {
        "id": "Jc3u__HTk-cq",
        "colab": {
          "base_uri": "https://localhost:8080/"
        },
        "outputId": "258ac001-a84f-46e6-d2ae-d53b5c022461"
      },
      "execution_count": null,
      "outputs": [
        {
          "output_type": "stream",
          "name": "stdout",
          "text": [
            "Give me your input: 45\n",
            "The entered value is  45\n",
            "The data type of user_input is  <class 'str'>\n"
          ]
        }
      ]
    },
    {
      "cell_type": "code",
      "source": [
        "# Question b.\n",
        "toFloat = float(user_input)\n",
        "print(f'The value to float is : {toFloat}')\n",
        "print(f'The datatype is : {type(toFloat)}')"
      ],
      "metadata": {
        "id": "gKO5vnvRzPgH",
        "colab": {
          "base_uri": "https://localhost:8080/"
        },
        "outputId": "bc4d8378-34ed-4728-c913-de0bcd5cb325"
      },
      "execution_count": null,
      "outputs": [
        {
          "output_type": "stream",
          "name": "stdout",
          "text": [
            "The value to float is : 45.0\n",
            "The datatype is : <class 'float'>\n"
          ]
        }
      ]
    },
    {
      "cell_type": "code",
      "source": [
        "# Question c\n",
        "toInt = int(toFloat)\n",
        "print(f'The integer value is : {toInt}')\n",
        "print(f'The datatype is : {type(toInt)}')"
      ],
      "metadata": {
        "id": "gzZF5TdazR7f",
        "colab": {
          "base_uri": "https://localhost:8080/"
        },
        "outputId": "45d3d0fc-82ad-41a9-a13e-c59cacf8eee9"
      },
      "execution_count": null,
      "outputs": [
        {
          "output_type": "stream",
          "name": "stdout",
          "text": [
            "The integer value is : 45\n",
            "The datatype is : <class 'int'>\n"
          ]
        }
      ]
    },
    {
      "cell_type": "markdown",
      "source": [
        "4. Write a program to take two numbers as input from the user and perform Arithmetic operations such as addition, subtraction, multiplication, division, modulus, and exponentiation on those numbers."
      ],
      "metadata": {
        "id": "c4NhJhQNNFBU"
      }
    },
    {
      "cell_type": "code",
      "source": [
        "# Use input() function to get first input from user, convert it into float() and store it in a variable\n",
        "firstNum = float(input(\"The first number ? \"))\n",
        "secondNum = float(input(\"The second number ? \"))\n",
        "# Perform all arithmetic operations on them\n",
        "add = firstNum + secondNum\n",
        "mul = firstNum * secondNum\n",
        "div = firstNum / secondNum\n",
        "floorDiv = firstNum // secondNum\n",
        "sub = firstNum - secondNum\n",
        "mod = firstNum % secondNum\n",
        "exp = firstNum**secondNum\n",
        "# Print all the results\n",
        "print(f'The sum of {firstNum} and {secondNum} = {add}')\n",
        "print(f'The product of {firstNum} and {secondNum} = {mul}')\n",
        "print(f'The quotient of {firstNum} upon {secondNum} = {div}')\n",
        "print(f'The floor division of {firstNum} upon {secondNum} = {floorDiv}')\n",
        "print(f'The difference of {secondNum} from {firstNum} = {sub}')\n",
        "print(f'The mod of {firstNum} by {secondNum} = {mod}')\n",
        "print(f'The power of {firstNum} raised to {secondNum} = {exp}')"
      ],
      "metadata": {
        "id": "w-0UJ_qVNgyf",
        "colab": {
          "base_uri": "https://localhost:8080/"
        },
        "outputId": "3552f4a1-badc-4513-def9-565eaf20625a"
      },
      "execution_count": null,
      "outputs": [
        {
          "output_type": "stream",
          "name": "stdout",
          "text": [
            "The first number ? 25\n",
            "The second number ? 3\n",
            "The sum of 25.0 and 3.0 = 28.0\n",
            "The product of 25.0 and 3.0 = 75.0\n",
            "The quotient of 25.0 upon 3.0 = 8.333333333333334\n",
            "The floor division of 25.0 upon 3.0 = 8.0\n",
            "The difference of 3.0 from 25.0 = 22.0\n",
            "The mod of 25.0 by 3.0 = 1.0\n",
            "The power of 25.0 raised to 3.0 = 15625.0\n"
          ]
        }
      ]
    },
    {
      "cell_type": "markdown",
      "source": [
        "5. Write a program that takes the length and breadth of a rectangle as input and calculate its area.\n",
        "> *Area of rectangle is length x breadth* \\\\\n",
        "> *Perimeter of rectangle is 2(length + breadth)*"
      ],
      "metadata": {
        "id": "Nq6vYvFwhdbt"
      }
    },
    {
      "cell_type": "code",
      "source": [
        "# Get length of a rectangle from user\n",
        "length = float(input(\"Length ? \"))\n",
        "\n",
        "# Get breadth of a rectangle\n",
        "breadth = float(input(\"Breadth ?\"))\n",
        "\n",
        "# Calculate area of rectangle\n",
        "area = length * breadth\n",
        "\n",
        "# Calculate perimeter of rectangle\n",
        "perimeter = 2 * (length + breadth)\n",
        "\n",
        "# Print the calculated area and perimeter of rectangle\n",
        "print(f'The area is {area} and perimeter is {perimeter}')\n"
      ],
      "metadata": {
        "id": "Z4xFDy9qhcgI",
        "colab": {
          "base_uri": "https://localhost:8080/"
        },
        "outputId": "ef4b22bf-a9a4-4105-aafb-e32993062cb9"
      },
      "execution_count": null,
      "outputs": [
        {
          "output_type": "stream",
          "name": "stdout",
          "text": [
            "Length ? 4\n",
            "Breadth ?5\n",
            "The area is 20.0 and perimeter is 18.0\n"
          ]
        }
      ]
    },
    {
      "cell_type": "markdown",
      "source": [
        "6. Write a program that takes a temperature in Celsius as input and converts it to Fahrenheit. Display the converted temperature to the user.\n",
        "> *F = ( C * 9/5 ) + 32*"
      ],
      "metadata": {
        "id": "gF2imkMik_-J"
      }
    },
    {
      "cell_type": "code",
      "source": [
        "# Write your code here\n",
        "C = float(input(\"Celcius ? \"))\n",
        "F = (C*9/5)+32\n",
        "print(f'The temperature in Fahrenheit is {F}')"
      ],
      "metadata": {
        "id": "dyN8P6hLk_b4",
        "colab": {
          "base_uri": "https://localhost:8080/"
        },
        "outputId": "adb3c4d6-edd9-4aea-fcd3-f30a24cf1eb3"
      },
      "execution_count": null,
      "outputs": [
        {
          "output_type": "stream",
          "name": "stdout",
          "text": [
            "Celcius ? 37\n",
            "The temperature in Fahrenheit is 98.6\n"
          ]
        }
      ]
    },
    {
      "cell_type": "markdown",
      "source": [
        "7. Write a program that calculates the Area and Circumference of a Circle. Display the calculated Area and Circumference to the user.\n",
        "> *Area of Circle = $\\pi r^2$*\n",
        "\n",
        ">>*Circumference of Circle = $2\\pi r$*"
      ],
      "metadata": {
        "id": "40YnFIrRlhXD"
      }
    },
    {
      "cell_type": "code",
      "source": [
        "# Write your code here\n",
        "#from math import pi as PI\n",
        "PI = 3.14\n",
        "radius = float(input('Enter the radius? '))\n",
        "area = PI * (radius**2)\n",
        "circ = 2 * PI * radius\n",
        "print(f'The area is {area} square units.')\n",
        "print(f'The circumference is {circ} units.')\n"
      ],
      "metadata": {
        "id": "W20rqotOlQJS",
        "colab": {
          "base_uri": "https://localhost:8080/"
        },
        "outputId": "e6a2e68d-312d-452a-dbe2-6c4f23dd4eaf"
      },
      "execution_count": null,
      "outputs": [
        {
          "output_type": "stream",
          "name": "stdout",
          "text": [
            "Enter the radius? 10\n",
            "The area is 314.1592653589793 square units.\n",
            "The circumference is 62.83185307179586 units.\n"
          ]
        }
      ]
    },
    {
      "cell_type": "markdown",
      "source": [
        "8. Imagine you're at a shopping mall, ready to checkout after completing your purchases. The cashier informs you that a 13% VAT applies to your total purchase.\n",
        "Write a program that calculates VAT amount and display the total amount you'll be paying, including the tax.\n"
      ],
      "metadata": {
        "id": "MiFxEdelVAHD"
      }
    },
    {
      "cell_type": "code",
      "source": [
        "# Write your code here\n",
        "total = 2000 # let the total be\n",
        "vat = 0.13 * total\n",
        "totalAmt = 1.13 * total\n",
        "print(f'VAT Amount : {vat}')\n",
        "print(f'Total with VAT: {totalAmt}')"
      ],
      "metadata": {
        "id": "zFz_EJznVB-v",
        "colab": {
          "base_uri": "https://localhost:8080/"
        },
        "outputId": "6438f221-bae2-4e5e-88e3-b05766ff75c1"
      },
      "execution_count": null,
      "outputs": [
        {
          "output_type": "stream",
          "name": "stdout",
          "text": [
            "VAT Amount : 260.0\n",
            "Total with VAT: 2260.0\n"
          ]
        }
      ]
    },
    {
      "cell_type": "markdown",
      "source": [
        "### Debugging Practice"
      ],
      "metadata": {
        "id": "4x7gmyZIMK7C"
      }
    },
    {
      "cell_type": "markdown",
      "source": [
        "1. Debug the following code such that it calculates the required sum.\n",
        "\n",
        "\n",
        "```\n",
        "x = 5\n",
        "y = \"10.5\"\n",
        "sum = x + y\n",
        "print(\"The required sum is \", sum)\n",
        "```\n",
        "\n"
      ],
      "metadata": {
        "id": "PSk5IJLjaudc"
      }
    },
    {
      "cell_type": "code",
      "source": [
        "# Write your code here\n",
        "x = 5\n",
        "y = \"10.5\"\n",
        "sum = x + float(y)\n",
        "print(\"The required sum is \", sum)"
      ],
      "metadata": {
        "id": "4Nb9K0_Vb5Q2",
        "colab": {
          "base_uri": "https://localhost:8080/"
        },
        "outputId": "e7df80a8-96fb-4661-8de9-2a2f4c885c02"
      },
      "execution_count": null,
      "outputs": [
        {
          "output_type": "stream",
          "name": "stdout",
          "text": [
            "The required sum is  15.5\n"
          ]
        }
      ]
    },
    {
      "cell_type": "markdown",
      "source": [
        "2. Fix the following code. It should calculate the required area of rectangle.\n",
        "\n",
        "\n",
        "```\n",
        "Length = 5\n",
        "width = 3\n",
        "area = length x width\n",
        "print(f\"The area of the rectangle is {area}\")\n",
        "\n",
        "```\n",
        "\n"
      ],
      "metadata": {
        "id": "Y3sTgXWTbu1D"
      }
    },
    {
      "cell_type": "code",
      "source": [
        "Length = 5\n",
        "width = 3\n",
        "area = Length * width\n",
        "print(f\"The area of the rectangle is {area}\")"
      ],
      "metadata": {
        "id": "bY8CeaGdMKHc",
        "colab": {
          "base_uri": "https://localhost:8080/"
        },
        "outputId": "3fdb5f03-fb4a-40ff-dd39-34dce2896c2f"
      },
      "execution_count": null,
      "outputs": [
        {
          "output_type": "stream",
          "name": "stdout",
          "text": [
            "The area of the rectangle is 15\n"
          ]
        }
      ]
    },
    {
      "cell_type": "markdown",
      "source": [
        "3. Debug the code appropriately. The code should calculate the average of two numbers.\n",
        "\n",
        "\n",
        "```\n",
        "num1 = input(\"Enter the first number: \")\n",
        "num2 = input(\"Enter the second number: \")\n",
        "\n",
        "average = num1 + num2 / 2\n",
        "\n",
        "print(f\"The average of {num1} and {num2} is {average}\")\n",
        "```\n",
        "\n",
        "\n"
      ],
      "metadata": {
        "id": "2CGv07Xtcusm"
      }
    },
    {
      "cell_type": "code",
      "source": [
        "num1 = input(\"Enter the first number: \")\n",
        "num2 = input(\"Enter the second number: \")\n",
        "\n",
        "average = (float(num1) + float(num2)) / 2\n",
        "\n",
        "print(f\"The average of {num1} and {num2} is {average}\")"
      ],
      "metadata": {
        "id": "FCvqIKf6dXFM",
        "colab": {
          "base_uri": "https://localhost:8080/"
        },
        "outputId": "7293cc53-6fd4-40b5-c979-1d6b95f49949"
      },
      "execution_count": null,
      "outputs": [
        {
          "output_type": "stream",
          "name": "stdout",
          "text": [
            "Enter the first number: 20\n",
            "Enter the second number: 40\n",
            "The average of 20 and 40 is 30.0\n"
          ]
        }
      ]
    },
    {
      "cell_type": "code",
      "source": [],
      "metadata": {
        "id": "n110hCz3okZH"
      },
      "execution_count": null,
      "outputs": []
    }
  ]
}