{
  "nbformat": 4,
  "nbformat_minor": 0,
  "metadata": {
    "colab": {
      "provenance": []
    },
    "kernelspec": {
      "name": "python3",
      "display_name": "Python 3"
    },
    "language_info": {
      "name": "python"
    }
  },
  "cells": [
    {
      "cell_type": "markdown",
      "source": [
        "1) Create three variables one for int, one for float, one for boolean and print its data type."
      ],
      "metadata": {
        "id": "shgnShacVeJY"
      }
    },
    {
      "cell_type": "code",
      "source": [
        "num  = int() # initialize with int value\n",
        "avg = float() # initialize with float value\n",
        "flag = bool() # True or False\n",
        "print(f'The data type of num is {type(num)}')\n",
        "print(f'The data type of avg is {type(avg)}')\n",
        "print(f'The data type of flag is {type(flag)}')"
      ],
      "metadata": {
        "id": "NpMWw-zRVio1",
        "outputId": "f4637ac5-c22c-41f3-a33d-bdd32f9f69a5",
        "colab": {
          "base_uri": "https://localhost:8080/"
        }
      },
      "execution_count": null,
      "outputs": [
        {
          "output_type": "stream",
          "name": "stdout",
          "text": [
            "The data type of num is <class 'int'>\n",
            "The data type of avg is <class 'float'>\n",
            "The data type of flag is <class 'bool'>\n"
          ]
        }
      ]
    },
    {
      "cell_type": "markdown",
      "source": [
        "Alternatively, initialize the variables with values.\n",
        "\n",
        "num = 10     # int value\n",
        "\n",
        "avg = 3.14   # float value\n",
        "\n",
        "flag = True  # bool value\n",
        "\n",
        "print(f'The data type of num is {type(num)}')\n",
        "\n",
        "print(f'The data type of avg is {type(avg)}')\n",
        "\n",
        "print(f'The data type of flag is {type(flag)}')"
      ],
      "metadata": {
        "id": "vyCwA3q7AS5M"
      }
    },
    {
      "cell_type": "markdown",
      "source": [
        "2) Create two strings **first_name** and **last_name** and combine those two strings and print it."
      ],
      "metadata": {
        "id": "6dbE2AooVmpV"
      }
    },
    {
      "cell_type": "code",
      "source": [
        "first_name = 'Subash'\n",
        "last_name = 'Mainali'\n",
        "full_name = first_name + ' ' + last_name\n",
        "print(f'My name is {full_name}')"
      ],
      "metadata": {
        "id": "Aa1YpWV6V1d9",
        "colab": {
          "base_uri": "https://localhost:8080/"
        },
        "outputId": "ecab133a-61c4-4a36-d689-d02075bd8d69"
      },
      "execution_count": null,
      "outputs": [
        {
          "output_type": "stream",
          "name": "stdout",
          "text": [
            "My name is Subash Mainali\n"
          ]
        }
      ]
    },
    {
      "cell_type": "markdown",
      "source": [
        "3) Write Python code to print the length of a string.\n"
      ],
      "metadata": {
        "id": "-r0hNYlUV7QE"
      }
    },
    {
      "cell_type": "code",
      "source": [
        "country = \"Nepal\"\n",
        "print(f'The length of word \\'{country}\\' is {len(country)}')"
      ],
      "metadata": {
        "id": "8S1ycWnhV9--",
        "colab": {
          "base_uri": "https://localhost:8080/"
        },
        "outputId": "0a7c4e26-984c-421f-aab3-e2e597f82a0b"
      },
      "execution_count": null,
      "outputs": [
        {
          "output_type": "stream",
          "name": "stdout",
          "text": [
            "The length of word 'Nepal' is 5\n"
          ]
        }
      ]
    },
    {
      "cell_type": "markdown",
      "source": [
        "4) Given,\n",
        "\n",
        "```\n",
        "  my_var = 'Nepal Research and Collaboration Centre'\n",
        "\n",
        "```\n",
        "  1. pring every other letter using slicing.\n",
        "  2. print only **Nepal** using slicing.\n",
        "  3. print only **Collaboration Centre** using slicing.\n",
        "  4. print **Research and Collaboration Centre** using slicing.\n",
        "  5. print **Research Collaboration** using slicing and     concatenation."
      ],
      "metadata": {
        "id": "DrIeNFhDV0iS"
      }
    },
    {
      "cell_type": "code",
      "source": [
        "my_var = 'Nepal Research and Collaboration Centre'\n",
        "print(f'Every other letter : {my_var[::2]}')\n",
        "print(f'Only Nepal : {my_var[0:5]}')\n",
        "print(f'Only Collaboration Centre : {my_var[19:]}')\n",
        "print(f'Research and Collaboration Centre : {my_var[6:]}')\n",
        "print(f'Research Collaboration using slicing and concatenation : {my_var[6:15] + my_var[19:32]}')"
      ],
      "metadata": {
        "id": "ByXVZJzhWrwU",
        "colab": {
          "base_uri": "https://localhost:8080/"
        },
        "outputId": "d28c6436-6f1e-4565-9866-4ac6d9798dd6"
      },
      "execution_count": null,
      "outputs": [
        {
          "output_type": "stream",
          "name": "stdout",
          "text": [
            "Every other letter : NplRsac n olbrto ete\n",
            "Only Nepal : Nepal\n",
            "Only Collaboration Centre : Collaboration Centre\n",
            "Research and Collaboration Centre : Research and Collaboration Centre\n",
            "Research Collaboration using slicing and concatenation : Research Collaboration\n"
          ]
        }
      ]
    },
    {
      "cell_type": "markdown",
      "source": [
        "5) Given,\n",
        "\n",
        "```\n",
        "first_name = 'john'\n",
        "last_name = 'doe'\n",
        "```\n",
        "\n",
        "print John Doe using slicing and using only .upper()."
      ],
      "metadata": {
        "id": "uSlrk8rMWsUK"
      }
    },
    {
      "cell_type": "code",
      "source": [
        "first_name = 'john'\n",
        "last_name = 'doe'\n",
        "# No concatenation, only slicing and .upper()\n",
        "print(f'The name is: {first_name[0].upper()}{first_name[1:]} {last_name[0].upper()}{last_name[1:]}')"
      ],
      "metadata": {
        "id": "VLzCLHlPXFlI",
        "colab": {
          "base_uri": "https://localhost:8080/"
        },
        "outputId": "ff888992-6a7e-4a24-b6b0-e57e43ad39c1"
      },
      "execution_count": null,
      "outputs": [
        {
          "output_type": "stream",
          "name": "stdout",
          "text": [
            "The name is: John Doe\n"
          ]
        }
      ]
    },
    {
      "cell_type": "markdown",
      "source": [
        "6) Given,\n",
        "\n",
        "`students = ['ram', 'hari']`\n",
        "\n",
        "1. add rita to the last position\n",
        "2. add shyam to the second index\n",
        "3. remove hari by index\n",
        "4. remove ram by value\n",
        "5. empty the list"
      ],
      "metadata": {
        "id": "oeLm01MwXGAF"
      }
    },
    {
      "cell_type": "code",
      "source": [
        "students = ['ram', 'hari']\n",
        "students.append('rita')\n",
        "print(students)\n",
        "students.insert(1, 'shyam')\n",
        "print(students)\n",
        "students.pop(2) # hari by index\n",
        "print(students)\n",
        "students.remove('ram') # ram by value\n",
        "print(students)\n",
        "students.clear() # empty the list\n",
        "print(students)"
      ],
      "metadata": {
        "id": "hGLU3axsXdAW",
        "colab": {
          "base_uri": "https://localhost:8080/"
        },
        "outputId": "ac91937b-b057-4ead-e862-7c56ac68e6dc"
      },
      "execution_count": null,
      "outputs": [
        {
          "output_type": "stream",
          "name": "stdout",
          "text": [
            "['ram', 'hari', 'rita']\n",
            "['ram', 'shyam', 'hari', 'rita']\n",
            "['ram', 'shyam', 'rita']\n",
            "['shyam', 'rita']\n",
            "[]\n"
          ]
        }
      ]
    }
  ]
}