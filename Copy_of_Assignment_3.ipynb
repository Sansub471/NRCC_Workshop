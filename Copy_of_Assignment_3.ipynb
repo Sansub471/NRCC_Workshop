{
  "nbformat": 4,
  "nbformat_minor": 0,
  "metadata": {
    "colab": {
      "provenance": []
    },
    "kernelspec": {
      "name": "python3",
      "display_name": "Python 3"
    },
    "language_info": {
      "name": "python"
    }
  },
  "cells": [
    {
      "cell_type": "markdown",
      "source": [],
      "metadata": {
        "id": "jnpO02_M3HZv"
      }
    },
    {
      "cell_type": "markdown",
      "source": [
        "1) Given,\n",
        "\n",
        "      name = 'Nepal Research and Collaboration Center'"
      ],
      "metadata": {
        "id": "-GAaLh713UUx"
      }
    },
    {
      "cell_type": "markdown",
      "source": [
        "a) Print only Collaboration using slicing"
      ],
      "metadata": {
        "id": "Il9yI7nA3KmV"
      }
    },
    {
      "cell_type": "code",
      "source": [
        "name = 'Nepal Research and Collaboration Center'\n",
        "print(name[18:33])"
      ],
      "metadata": {
        "id": "lTgPkntZ3t4H",
        "colab": {
          "base_uri": "https://localhost:8080/"
        },
        "outputId": "5619f923-cdf7-424c-d8fa-7071b019cfc6"
      },
      "execution_count": null,
      "outputs": [
        {
          "output_type": "stream",
          "name": "stdout",
          "text": [
            " Collaboration \n"
          ]
        }
      ]
    },
    {
      "cell_type": "markdown",
      "source": [
        "b) print every other letter using slicing"
      ],
      "metadata": {
        "id": "vSlsWxOp3ure"
      }
    },
    {
      "cell_type": "code",
      "source": [
        "print(name[::2])"
      ],
      "metadata": {
        "id": "XhjDTzKu3xRx",
        "colab": {
          "base_uri": "https://localhost:8080/"
        },
        "outputId": "fad82967-7375-4a62-f37c-1dd01024102d"
      },
      "execution_count": null,
      "outputs": [
        {
          "output_type": "stream",
          "name": "stdout",
          "text": [
            "NplRsac n olbrto etr\n"
          ]
        }
      ]
    },
    {
      "cell_type": "markdown",
      "source": [
        "c) Print Nepal using slicing"
      ],
      "metadata": {
        "id": "EdJtN65T3xrR"
      }
    },
    {
      "cell_type": "code",
      "source": [
        "print(name[:5])"
      ],
      "metadata": {
        "id": "TPLvzhkx31z6",
        "colab": {
          "base_uri": "https://localhost:8080/"
        },
        "outputId": "24954e9f-3e99-44ef-a0ff-40adc58036cf"
      },
      "execution_count": null,
      "outputs": [
        {
          "output_type": "stream",
          "name": "stdout",
          "text": [
            "Nepal\n"
          ]
        }
      ]
    },
    {
      "cell_type": "markdown",
      "source": [
        "2) Given the name and grade of the students,\n",
        "\n",
        "    ram -> 25, shyam -> 32, hari -> 45"
      ],
      "metadata": {
        "id": "kVWR1fdV32OU"
      }
    },
    {
      "cell_type": "markdown",
      "source": [
        "a) Store the above data in a suitable data structure"
      ],
      "metadata": {
        "id": "3S5csj324NIO"
      }
    },
    {
      "cell_type": "code",
      "source": [
        "grades = {'ram':25, 'shyam':32, 'hari':45}"
      ],
      "metadata": {
        "id": "ndFdSagF4HpS"
      },
      "execution_count": null,
      "outputs": []
    },
    {
      "cell_type": "markdown",
      "source": [
        "b) add the grade of rita -> 52 to the above dictionary"
      ],
      "metadata": {
        "id": "W8_uapJX4TSv"
      }
    },
    {
      "cell_type": "code",
      "source": [
        "grades['rita'] = 50\n",
        "grades"
      ],
      "metadata": {
        "id": "rerdycaE4ZFy",
        "colab": {
          "base_uri": "https://localhost:8080/"
        },
        "outputId": "84760949-c3df-4742-b1b1-92c2de69e899"
      },
      "execution_count": null,
      "outputs": [
        {
          "output_type": "execute_result",
          "data": {
            "text/plain": [
              "{'ram': 25, 'shyam': 32, 'hari': 45, 'rita': 50}"
            ]
          },
          "metadata": {},
          "execution_count": 7
        }
      ]
    },
    {
      "cell_type": "markdown",
      "source": [
        "c) delete the grade of shyam from above dictionary"
      ],
      "metadata": {
        "id": "IJ-V7n7M4ZlS"
      }
    },
    {
      "cell_type": "code",
      "source": [
        "grades.pop('shyam')\n",
        "grades"
      ],
      "metadata": {
        "id": "EmIibxiE4eRh",
        "colab": {
          "base_uri": "https://localhost:8080/"
        },
        "outputId": "37b55cc9-a8e0-4c53-8c01-fd54c2d862a7"
      },
      "execution_count": null,
      "outputs": [
        {
          "output_type": "execute_result",
          "data": {
            "text/plain": [
              "{'ram': 25, 'hari': 45, 'rita': 50}"
            ]
          },
          "metadata": {},
          "execution_count": 8
        }
      ]
    },
    {
      "cell_type": "markdown",
      "source": [
        "Given the name and grade of students:\n",
        "\n",
        "  ram -> 92, shyam -> 82, hari -> 75, rita -> 25\n",
        "\n",
        "*   Store it in a suitable data structure\n",
        "*   Write a code that allows user to input their name and prints:\n",
        "\n",
        "    i) Congratulations **user's_name**. You passed with distinction. (if the grade is greater than or equals to 80)\n",
        "\n",
        "    ii) Congratulations **user's_name**. You passed with first division (if the grade is greater than or equals to 60 and less than 80)\n",
        "\n",
        "    iii) Congratulations **user's_name**. You passed with second division (if the grade is greater than or equals to 50 and less than 60)\n",
        "\n",
        "    iv) Sorry **user's_name**. You failed the test  (if the grade is lower than 50.)\n",
        "    "
      ],
      "metadata": {
        "id": "NLXt1UXq4fIX"
      }
    },
    {
      "cell_type": "code",
      "source": [
        "# Assumption, valid names will be entered.\n",
        "std_grades ={'ram':92, 'shyam':82, 'hari':75, 'rita':25}\n",
        "name = input('Enter your name : ').lower()\n",
        "if name in std_grades.keys():\n",
        "  if std_grades[name] >= 80:\n",
        "    print(f'Congratulations {name.capitalize()}. You passed with distinction.')\n",
        "  elif std_grades[name] < 80 and std_grades[name] >= 60:\n",
        "    print(f'Congratulations {name.capitalize()}. You passed with first division.')\n",
        "  elif std_grades[name] < 60 and std_grades[name] >= 50:\n",
        "    print(f'Congratulations {name.capitalize()}. You passed with second division.')\n",
        "  else:\n",
        "    print(f'Sorry {name.capitalize()}. You failed the test.')\n",
        "else:\n",
        "  print('Record non existent, enter valid name.')\n"
      ],
      "metadata": {
        "id": "c3E42q2w8L58",
        "colab": {
          "base_uri": "https://localhost:8080/"
        },
        "outputId": "c8f68ecd-78f7-460f-f332-0fe00714ad18"
      },
      "execution_count": null,
      "outputs": [
        {
          "output_type": "stream",
          "name": "stdout",
          "text": [
            "Enter your name : HaRi\n",
            "Congratulations Hari. You passed with first division.\n"
          ]
        }
      ]
    }
  ]
}