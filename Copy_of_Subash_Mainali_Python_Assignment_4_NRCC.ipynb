{
  "nbformat": 4,
  "nbformat_minor": 0,
  "metadata": {
    "colab": {
      "provenance": []
    },
    "kernelspec": {
      "name": "python3",
      "display_name": "Python 3"
    },
    "language_info": {
      "name": "python"
    }
  },
  "cells": [
    {
      "cell_type": "markdown",
      "source": [
        "###MCQ"
      ],
      "metadata": {
        "id": "FQ8lldIygS7T"
      }
    },
    {
      "cell_type": "markdown",
      "source": [
        "*Question 1:* Which of the following properties describe lists in Python?\n",
        "\n",
        "> a. Lists are immutable and do not allow duplicate values.\n",
        "\n",
        "> b. Lists are immutable and allow duplicate values.\n",
        "\n",
        "> c. Lists are mutable and do not allow duplicate values.\n",
        "\n",
        "> d. Lists are mutable and allow duplicate values."
      ],
      "metadata": {
        "id": "sv3TIfaKFpNP"
      }
    },
    {
      "cell_type": "markdown",
      "source": [
        "Answer: d"
      ],
      "metadata": {
        "id": "US45eZ7jaXK3"
      }
    },
    {
      "cell_type": "markdown",
      "source": [
        "*Question 2:*\tHow is a list sorted in ascending order using the sort() method?\n",
        "\n",
        "a. my_list.sort(descending=False)\n",
        "\n",
        "b. my_list.sort(ascending=True)\n",
        "\n",
        "c. my_list.sort(reverse=False)\n",
        "\n",
        "d. my_list.sort(reverse=True)"
      ],
      "metadata": {
        "id": "ALY_u0EMFtq7"
      }
    },
    {
      "cell_type": "markdown",
      "source": [
        "Answer: c"
      ],
      "metadata": {
        "id": "uDP9jQgQabwC"
      }
    },
    {
      "cell_type": "markdown",
      "source": [
        "*Question 3:* How do you access the value associated with the key \"age\" in a dictionary named \"person\"?\n",
        "\n",
        "> a. person(\"age\")\n",
        "\n",
        "> b. person.get(\"age\")\n",
        "\n",
        "> c. person[\"age\"]\n",
        "\n",
        "> d. Both b and c"
      ],
      "metadata": {
        "id": "QXd1R7AsFu_R"
      }
    },
    {
      "cell_type": "markdown",
      "source": [
        "Answer: c"
      ],
      "metadata": {
        "id": "UqZ4IWHyaeny"
      }
    },
    {
      "cell_type": "markdown",
      "source": [
        "*Question 4:*\tWhich of the following property is true for dictionary keys?\n",
        "\n",
        "> a. Keys must be integers\n",
        "\n",
        "> b. Keys must be unique within the dictionary\n",
        "\n",
        "> c. Keys must be strings\n",
        "\n",
        "> d. Keys must be in ascending order"
      ],
      "metadata": {
        "id": "4IeDS71WFvvk"
      }
    },
    {
      "cell_type": "markdown",
      "source": [
        "Answer: b"
      ],
      "metadata": {
        "id": "_rhtKCFDcaN7"
      }
    },
    {
      "cell_type": "markdown",
      "source": [
        "*Question 5:* What does the dict.items() method return?\n",
        "\n",
        "> a. A list of all keys in the dictionary.\n",
        "\n",
        "> b. A list of all values in the dictionary.\n",
        "\n",
        "> c. A list of all key-value pairs in the dictionary.\n",
        "\n",
        "> d. A count of the total number of key-value pairs in the dictionary."
      ],
      "metadata": {
        "id": "7eA6t0UIIPq_"
      }
    },
    {
      "cell_type": "markdown",
      "source": [
        "Answer: c"
      ],
      "metadata": {
        "id": "SCLntJPncd0j"
      }
    },
    {
      "cell_type": "markdown",
      "source": [
        "*Question 6:*   What is the purpose of \"elif\" in a series of if...elif...else statements?\n",
        "\n",
        "> a. It defines a new condition\n",
        "\n",
        "> b. It indicates the end of the if...elif...else structure\n",
        "\n",
        "> c. It specifies the default case\n",
        "\n",
        "> d. It provides an alternative condition to check if the previous condition is false"
      ],
      "metadata": {
        "id": "dF4NAzW2Ja2-"
      }
    },
    {
      "cell_type": "markdown",
      "source": [
        "Answer: d"
      ],
      "metadata": {
        "id": "ygHTQrA5chI8"
      }
    },
    {
      "cell_type": "markdown",
      "source": [
        "*Question 7:*   What happens if none of the conditions in an \"if...elif...else\" block are true?\n",
        "\n",
        "> a. The program terminates.\n",
        "\n",
        "> b. The \"if\" statement is executed.\n",
        "\n",
        "> c. The \"else\" statement is executed.\n",
        "\n",
        "> d. None of the code is executed."
      ],
      "metadata": {
        "id": "i044xc28JXNh"
      }
    },
    {
      "cell_type": "markdown",
      "source": [
        "Answer: c"
      ],
      "metadata": {
        "id": "YC-T-T8ncmZe"
      }
    },
    {
      "cell_type": "markdown",
      "source": [
        "*Question 8:* What does the following code snippet do?\n",
        "\n",
        "`result = x if x > y else y `\n",
        "\n",
        "> a. Sets the value of x to result\n",
        "\n",
        "> b. Sets the value of y to result\n",
        "\n",
        "> c. Compares x and y and stores the larger value in result\n",
        "\n",
        "> d. Compares x and y and stores the smaller value in result"
      ],
      "metadata": {
        "id": "zS4JLgttJd0z"
      }
    },
    {
      "cell_type": "markdown",
      "source": [
        "Answer: c"
      ],
      "metadata": {
        "id": "NDoNzNcSdKvq"
      }
    },
    {
      "cell_type": "markdown",
      "source": [
        "*Question 9:* What is the purpose of the \"range()\" function in loops?\n",
        "\n",
        "> a. It defines the start of the loop.\n",
        "\n",
        "> b. It specifies the condition for loop termination.\n",
        "\n",
        "> c. It generates a sequence of numbers to iterate over.\n",
        "\n",
        "> d. It calculates the number of iterations for a loop."
      ],
      "metadata": {
        "id": "u-fs-j1AJs4G"
      }
    },
    {
      "cell_type": "markdown",
      "source": [
        "Answer: c"
      ],
      "metadata": {
        "id": "JSpm4cf2dT9G"
      }
    },
    {
      "cell_type": "markdown",
      "source": [
        "*Question 10:*\tWhat is the key difference between the \"break,\" \"continue,\" and \"pass\" statements in Python?\n",
        "\n",
        "> a. \"break\" skips the rest of the current iteration and proceeds to the next, \"continue\" terminates the loop completely, and \"pass\" is used as a placeholder for future code.\n",
        "\n",
        "> b. \"break\" terminates the loop completely, \"continue\" skips the rest of the current iteration and proceeds to the next, and \"pass\" is used as a placeholder for future code.\n",
        "\n",
        "> c. \"break\" is used to create nested loops, \"continue\" skips the rest of the current iteration and proceeds to the next, and \"pass\" is used as a placeholder for future code.\n",
        "> d. \"break\" pauses the loop temporarily, \"continue\" terminates the loop completely, and \"pass\" is used to initiate a new iteration.\n"
      ],
      "metadata": {
        "id": "RwyL2FrnJtli"
      }
    },
    {
      "cell_type": "markdown",
      "source": [
        "Answer: b"
      ],
      "metadata": {
        "id": "KislBnWKOzZh"
      }
    },
    {
      "cell_type": "markdown",
      "source": [
        "*Question 11:* Which of the following statements accurately reflects difference between \"while\" and \"for\" loops in Python?\n",
        "\n",
        "> a.\t\"while\" loops are suitable for iterating over a sequence of elements, while \"for\" loops are used for indefinite looping\n",
        "\n",
        "> b.\t\"for\" loops are used for definite iteration, iterating a specified number of times, while \"while\" loops can iterate indefinitely until a condition is false.\n",
        "\n",
        "> c.\t\"while\" loops can only iterate over integers, while \"for\" loops can iterate over any data type.\n"
      ],
      "metadata": {
        "id": "dLghPDG7JvnQ"
      }
    },
    {
      "cell_type": "markdown",
      "source": [
        "Answer: b"
      ],
      "metadata": {
        "id": "e6Z1-aWIdYsT"
      }
    },
    {
      "cell_type": "markdown",
      "source": [
        "*Question 12:* What do the terms \"parameter\" and \"argument\" refer to in the context of functions?\n",
        "\n",
        "> a. Parameters are values passed to the function when it is called, while arguments are used when defining a function\n",
        "\n",
        "> b. Parameters are used when defining a function, while arguments are used when calling a function\n",
        "\n",
        "> c. Parameters and arguments are terms used interchangeably in Python"
      ],
      "metadata": {
        "id": "IBN2b7WcEQq-"
      }
    },
    {
      "cell_type": "markdown",
      "source": [
        "Answer: b"
      ],
      "metadata": {
        "id": "GOIKoat_j7sQ"
      }
    },
    {
      "cell_type": "markdown",
      "source": [
        "*Question 13:*  In Python, what happens if you try to access a variable defined inside a function from outside the function?\n",
        "\n",
        "> a. The variable's value will be changed to None.\n",
        "\n",
        "> b. The variable will be accessible and retain its value.\n",
        "\n",
        "> c. An error will occur, and the program will terminate.\n",
        "\n",
        "> d. The variable's value will be reset to its initial value."
      ],
      "metadata": {
        "id": "ZANVbGP5ivT4"
      }
    },
    {
      "cell_type": "markdown",
      "source": [
        "Answer: c"
      ],
      "metadata": {
        "id": "8m58qqjIkHnL"
      }
    },
    {
      "cell_type": "markdown",
      "source": [
        "*Question 14:* What is the difference between a function definition and a function call?\n",
        "\n",
        "> a. A function definition is where arguments are specified, while a function call executes the function\n",
        "\n",
        "> b. A function call is where arguments are specified, while a function definition executes the function\n",
        "\n",
        "> c. A function definition and a function call are the same thing"
      ],
      "metadata": {
        "id": "lJICz5v4jeX3"
      }
    },
    {
      "cell_type": "markdown",
      "source": [
        "Answer: a"
      ],
      "metadata": {
        "id": "5cJbUgZrkKNV"
      }
    },
    {
      "cell_type": "markdown",
      "source": [
        "*Question 15:* What is the result of the following code?\n",
        "\n",
        "\n",
        "```\n",
        "def my_function(a=1, b=2):\n",
        "    return a + b\n",
        "\n",
        "result = my_function(5, 3)\n",
        "print(result)\n",
        "```"
      ],
      "metadata": {
        "id": "HdSOQwsXkYvl"
      }
    },
    {
      "cell_type": "markdown",
      "source": [
        "Answer: 8"
      ],
      "metadata": {
        "id": "QSi2ofytkrR9"
      }
    },
    {
      "cell_type": "markdown",
      "source": [
        "###Coding Section"
      ],
      "metadata": {
        "id": "ZkpAF8YTgdCl"
      }
    },
    {
      "cell_type": "markdown",
      "source": [
        "*Question 16:* Write a program that calculates the sum of all even numbers from 1 to a user-provided upper limit."
      ],
      "metadata": {
        "id": "6b7We-SwlQa0"
      }
    },
    {
      "cell_type": "code",
      "source": [
        "# Write you code here\n",
        "sum_even = 0\n",
        "upper_limit = int(input(\"Enter the upper limit : \"))\n",
        "sum_even = sum([num for num in range(2, upper_limit + 1, 2)])\n",
        "print(f'The sum of even numbers upto {upper_limit} is {sum_even}')\n",
        "\n",
        "# Alternatively,\n",
        "sum_even = 0\n",
        "for num in range(2, upper_limit + 1, 2):\n",
        "  sum_even += num\n",
        "print(f'The sum of even numbers upto {upper_limit} is {sum_even}')"
      ],
      "metadata": {
        "id": "lCTnyUlK08Pr",
        "colab": {
          "base_uri": "https://localhost:8080/"
        },
        "outputId": "6f9a94da-12d8-45fc-e6c1-63fa3b43bfa2"
      },
      "execution_count": null,
      "outputs": [
        {
          "output_type": "stream",
          "name": "stdout",
          "text": [
            "Enter the upper limit : 23\n",
            "The sum of even numbers upto 23 is 132\n",
            "The sum of even numbers upto 23 is 132\n"
          ]
        }
      ]
    },
    {
      "cell_type": "markdown",
      "source": [
        "*Question 17:* Write a program to assess if a student is eligible for a scholarship. Consider the following instructions.\n",
        "\n",
        "\n",
        "```\n",
        "1. Ask the user to enter their GPA\n",
        "2. Ask the user to enter their family income\n",
        "```\n",
        "A student must have GPA of 3.5 or higher and familly income must be below Rs.1,00,000.\n",
        "\n",
        "Your program should handle inputs and specify which criteria they didn't meet."
      ],
      "metadata": {
        "id": "ARGR8NoeTK98"
      }
    },
    {
      "cell_type": "code",
      "source": [
        "# Write your code here\n",
        "# handle input\n",
        "try :\n",
        "  gpa = float(input(\"Enter the GPA : \"))\n",
        "  income = float(input(\"Enter the family income : \"))\n",
        "\n",
        "  if not (gpa >= 0 and gpa <= 4):\n",
        "    raise ValueError(\n",
        "        f'GPA is between 0 - 4.0'\n",
        "    )\n",
        "  if income <= 0:\n",
        "    raise ValueError(\n",
        "        f'Income cannot be negative or zero.'\n",
        "    )\n",
        "except ValueError as e:\n",
        "  print(f'{e} Enter valid values.')\n",
        "\n",
        "if gpa >= 3.5 and income < 100000:\n",
        "    print('Scholarship eligible.')\n",
        "else:\n",
        "  print('No scholarship.')\n",
        "  if income >= 100000:\n",
        "    print(f'Family income not below 100000.')\n",
        "  if gpa < 3.5:\n",
        "    print('GPA less than 3.5')"
      ],
      "metadata": {
        "id": "VsAROTvG09T2",
        "colab": {
          "base_uri": "https://localhost:8080/"
        },
        "outputId": "0f98066b-9e77-410a-b528-6380f71824b4"
      },
      "execution_count": null,
      "outputs": [
        {
          "output_type": "stream",
          "name": "stdout",
          "text": [
            "Enter the GPA : 2.3\n",
            "Enter the family income : 200000\n",
            "No scholarship.\n",
            "Family income not below 100000.\n",
            "GPA less than 3.5\n"
          ]
        }
      ]
    },
    {
      "cell_type": "markdown",
      "source": [
        "*Question 18:* Create a simple program that acts like a shopping list. The program should let you add groceries along with the prices, update, delete and display the items. Consider the following instructions.\n",
        "\n",
        "\n",
        "\n",
        "```\n",
        "1. Begin by asking the user \"What you want to do? Choose: 1 to Add an item, 2 to Update, 3 to Delete, 4 to Display, ... \"\n",
        "2. Initialize a suitable data structure to store the items and their corresponding prices\n",
        "3. Create separate functions for each of the task, such as adding an item, updating the list, deleting items, and displaying the current list.\n",
        "4. For the \"Add item\" function\n",
        "    > Prompt the user to enter the name of the grocery item and its corresponding price.\n",
        "    > Append the item and its price to the list\n",
        "5. For the \"Update\" function\n",
        "    > Ask the user to provide the name of the item they want to update\n",
        "    > If the item exists in the list, prompt for the new price and update it\n",
        "6. For the \"Delete\" function:\n",
        "    > Request the user to input the name of the item to be removed\n",
        "    > If the item exists, remove it from the list\n",
        "7. For the \"Display\" function\n",
        "    > Iterate through the list and show each item along with its price\n",
        "8. Implement a loop that keeps the program running until the user chooses to exit\n",
        "\n",
        "```"
      ],
      "metadata": {
        "id": "4dxYxmxiniPM"
      }
    },
    {
      "cell_type": "code",
      "source": [
        "# Write your code here\n",
        "flag = True\n",
        "items_list = {}\n",
        "\n",
        "print('1. Add an item')\n",
        "print('2. Update')\n",
        "print('3. Delete')\n",
        "print('4. Display')\n",
        "print('5. Exit')\n",
        "\n",
        "def add_item():\n",
        "  item_name = str(input('Enter the item name : ')).lower()\n",
        "  item_price = float(input('Enter the item price : '))\n",
        "  print('\\n')\n",
        "\n",
        "  new_item = {item_name : item_price}\n",
        "  items_list.update(new_item)\n",
        "  # items_list[item_name] = item_price\n",
        "\n",
        "def update_item():\n",
        "  item_name = str(input('Enter the item name to update: ')).lower()\n",
        "  if item_name in items_list.keys():\n",
        "    item_price = float(input('Enter the item price : '))\n",
        "    items_list[item_name] = item_price\n",
        "  else:\n",
        "    print(f'{item_name} not in your items list. \\n')\n",
        "\n",
        "def delete_item():\n",
        "  item_name = str(input('Enter the item name to remove: ')).lower()\n",
        "  if item_name in items_list.keys():\n",
        "    items_list.pop(item_name)\n",
        "  else:\n",
        "    print(f'{item_name} not in your items list.\\n')\n",
        "\n",
        "def display_items():\n",
        "  if not items_list:\n",
        "    print('Add items first.\\n')\n",
        "    return\n",
        "\n",
        "  for items, prices in items_list.items():\n",
        "    print(f'{items} : \\t {prices}')\n",
        "  print('\\n')\n",
        "\n",
        "while(flag):\n",
        "  try :\n",
        "    option = int(input('Enter your choice : '))\n",
        "  except ValueError as e:\n",
        "    print(f'{e}')\n",
        "    break\n",
        "\n",
        "  if option == 1:\n",
        "    add_item()\n",
        "  elif option == 2:\n",
        "    update_item()\n",
        "  elif option == 3:\n",
        "    delete_item()\n",
        "  elif option == 4:\n",
        "    display_items()\n",
        "  else:\n",
        "    flag = False"
      ],
      "metadata": {
        "id": "nqdhdhOKz1ei",
        "colab": {
          "base_uri": "https://localhost:8080/"
        },
        "outputId": "44dfc0cc-2b76-405a-ee2f-90499f9cf4c1"
      },
      "execution_count": null,
      "outputs": [
        {
          "name": "stdout",
          "output_type": "stream",
          "text": [
            "1. Add an item\n",
            "2. Update\n",
            "3. Delete\n",
            "4. Display\n",
            "5. Exit\n",
            "Enter your choice : 1\n",
            "Enter the item name : mango\n",
            "Enter the item price : 34\n",
            "\n",
            "\n",
            "Enter your choice : 1\n",
            "Enter the item name : mango\n",
            "Enter the item price : 19\n",
            "\n",
            "\n",
            "Enter your choice : 1\n",
            "Enter the item name : orange\n",
            "Enter the item price : 90\n",
            "\n",
            "\n",
            "Enter your choice : 4\n",
            "mango : \t 19.0\n",
            "orange : \t 90.0\n",
            "Enter your choice : 1\n",
            "Enter the item name : apple\n",
            "Enter the item price : 28\n",
            "\n",
            "\n",
            "Enter your choice : 4\n",
            "mango : \t 19.0\n",
            "orange : \t 90.0\n",
            "apple : \t 28.0\n",
            "Enter your choice : 2\n",
            "Enter the item name to update: mango\n",
            "Enter the item price : 99\n",
            "Enter your choice : 4\n",
            "mango : \t 99.0\n",
            "orange : \t 90.0\n",
            "apple : \t 28.0\n",
            "Enter your choice : 3\n",
            "Enter the item name to remove: orange\n",
            "Enter your choice : 4\n",
            "mango : \t 99.0\n",
            "apple : \t 28.0\n",
            "Enter your choice : 5\n"
          ]
        }
      ]
    },
    {
      "cell_type": "markdown",
      "source": [
        "*Question 19:* Write a program that ask user to enter a password and then determines whether it's a strong enough. Consider following criteria for a strong password.\n",
        "\n",
        "\n",
        "\n",
        "```\n",
        "1. Password should be at least 8 characters long\n",
        "2. Contains at least one uppercase letter\n",
        "3. Contains at least one lowercase letter\n",
        "4. Contains at least one digit\n",
        "```"
      ],
      "metadata": {
        "id": "-S34-a1LZavE"
      }
    },
    {
      "cell_type": "code",
      "source": [
        "# Write your code here\n",
        "def passwordStrength(password):\n",
        "  length = True if len(password) >= 8 else False\n",
        "  upper = True if any(char.isupper() for char in password) else False\n",
        "  lower = True if any(char.islower() for char in password) else False\n",
        "  digit = True if any(char.isdigit() for char in password) else False\n",
        "  return True if all((length, upper, lower, digit)) else False\n",
        "\n",
        "\n",
        "# Alternatively,\n",
        "def passwordCheck(password):\n",
        "  length = True if len(password) >= 8 else False\n",
        "  upper = lower = digit = False\n",
        "  for char in password:\n",
        "    if char.isupper():\n",
        "      upper = True\n",
        "    if char.islower():\n",
        "      lower = True\n",
        "    if char.isdigit():\n",
        "      digit = True\n",
        "  return length and upper and lower and digit\n",
        "\n",
        "\n",
        "my_password = str(input('Enter a password : '))\n",
        "if passwordCheck(my_password):\n",
        "  print('Strong password.')\n",
        "else:\n",
        "  print('Weak password.')"
      ],
      "metadata": {
        "id": "NQ8xrODH0-K-",
        "colab": {
          "base_uri": "https://localhost:8080/"
        },
        "outputId": "986ef0eb-3717-4639-c9f6-91df5240248a"
      },
      "execution_count": null,
      "outputs": [
        {
          "output_type": "stream",
          "name": "stdout",
          "text": [
            "Enter a password : ljadlkfjkalsdjflkjdflka89A\n",
            "Strong password.\n"
          ]
        }
      ]
    },
    {
      "cell_type": "markdown",
      "source": [
        "*Question 20:* Build a basic program that allows you to play the classic game of **Rock, Paper, Scissors**. The program should let you choose your move, compete against the computer's random move, and determine the winner. Here's what you need to do:\n",
        "\n",
        "\n",
        "```\n",
        "1. Prompt the user to select their move, either Rock, Paper, or Scissors\n",
        "2. Generate a random computer move by selecting an item from the list of possible moves. You may import 'random' module.\n",
        "3. Follow the rules of game:\n",
        "  > Rock beats Scissors\n",
        "  > Scissors beats Paper\n",
        "  > Paper beats Rock\n",
        "4. Compare the user's move with the computer's move to determine the winner\n",
        "5. Announce the winner or indicate if it's a tie\n",
        "  \n",
        "```"
      ],
      "metadata": {
        "id": "rldC2Jrfz2Q-"
      }
    },
    {
      "cell_type": "code",
      "source": [
        "# Write you code here\n",
        "from random import randint, shuffle\n",
        "moves = ['rock', 'paper', 'scissors']\n",
        "winning_moves = [('rock', 'scissors'), ('scissors', 'paper'), ('paper', 'rock')]\n",
        "\n",
        "def winner(move:tuple):\n",
        "  return True if move in winning_moves else False\n",
        "\n",
        "while True:\n",
        "  player = str(input('Your move : ')).lower()\n",
        "  if player not in moves:\n",
        "    print(f'Error ! The possible moves are {moves}')\n",
        "    break\n",
        "\n",
        "  shuffle(moves) # shuffle the moves\n",
        "  computer = moves[randint(0, len(moves) - 1)] # pick one randomly\n",
        "  print(f'Computer : {computer} \\t You : {player}')\n",
        "\n",
        "  if winner((player, computer)):\n",
        "    print('You won.\\n')\n",
        "  elif winner((computer, player)):\n",
        "    print('Computer won.\\n')\n",
        "  else:\n",
        "    print('Tie. \\n')"
      ],
      "metadata": {
        "id": "XFzVjgaO84Wa",
        "colab": {
          "base_uri": "https://localhost:8080/"
        },
        "outputId": "7182d705-1392-4d91-92cf-d5f779c24745"
      },
      "execution_count": null,
      "outputs": [
        {
          "output_type": "stream",
          "name": "stdout",
          "text": [
            "Your move : paper\n",
            "Computer : rock \t You : paper\n",
            "You won.\n",
            "\n",
            "Your move : rock\n",
            "Computer : rock \t You : rock\n",
            "Tie. \n",
            "\n",
            "Your move : rock\n",
            "Computer : rock \t You : rock\n",
            "Tie. \n",
            "\n",
            "Your move : rock\n",
            "Computer : scissors \t You : rock\n",
            "You won.\n",
            "\n",
            "Your move : rock\n",
            "Computer : scissors \t You : rock\n",
            "You won.\n",
            "\n",
            "Your move : paper\n",
            "Computer : paper \t You : paper\n",
            "Tie. \n",
            "\n",
            "Your move : exit\n",
            "Error ! The possible moves are ['rock', 'paper', 'scissors']\n"
          ]
        }
      ]
    },
    {
      "cell_type": "markdown",
      "source": [
        "###Debugging Section\n",
        "##### Do not forget to provide comments explaining the issues in the code as well"
      ],
      "metadata": {
        "id": "KBINXj4Xgtwi"
      }
    },
    {
      "cell_type": "markdown",
      "source": [
        "*Question 21:* Fix the code below. The code is intended to print the numbers from 1 to 10, skipping to print the number 5\n",
        "\n",
        "\n",
        "\n",
        "```\n",
        "for i in range(10):\n",
        "    if i == 5:\n",
        "        continue\n",
        "    print(i)\n",
        "\n",
        "```\n",
        "\n"
      ],
      "metadata": {
        "id": "4-GC470zEYa1"
      }
    },
    {
      "cell_type": "code",
      "source": [
        "# Write your code here\n",
        "# By default lower limit of range is 0, we need 1 here.\n",
        "# range object doesn't include the upper limit, [lower, upper)\n",
        "for i in range(1, 11):\n",
        "    if i == 5:\n",
        "        continue\n",
        "    print(i)"
      ],
      "metadata": {
        "id": "LHLoeOuchsSn",
        "colab": {
          "base_uri": "https://localhost:8080/"
        },
        "outputId": "7cf0d024-0cab-463e-ccd7-97a10e43c896"
      },
      "execution_count": null,
      "outputs": [
        {
          "output_type": "stream",
          "name": "stdout",
          "text": [
            "1\n",
            "2\n",
            "3\n",
            "4\n",
            "6\n",
            "7\n",
            "8\n",
            "9\n",
            "10\n"
          ]
        }
      ]
    },
    {
      "cell_type": "markdown",
      "source": [
        "*Question 22:* The following code attempts to calculate the factorial of a number using a loop.\n",
        "\n",
        "\n",
        "\n",
        "```\n",
        "def factorial(n):\n",
        "    result = 1\n",
        "    for i in range(n):\n",
        "        result *= i\n",
        "    return result\n",
        "\n",
        "print(factorial(5))\n",
        "\n",
        "```\n",
        "\n"
      ],
      "metadata": {
        "id": "9kuJqLFgFbFD"
      }
    },
    {
      "cell_type": "code",
      "source": [
        "# Write your code here\n",
        "# Assumption : only positive number given, traditionally no factorial of negative\n",
        "# numbers.\n",
        "\n",
        "def factorial(n):\n",
        "  if n == 0 or n == 1: # 0 and 1 must be handled separately\n",
        "    return 1\n",
        "  result = 1\n",
        "  for i in range(2, n+1): # range doesn't include the upper limit\n",
        "    result *= i\n",
        "  return result\n",
        "\n",
        "print(factorial(5))"
      ],
      "metadata": {
        "id": "NBxxxSj0hvbK",
        "colab": {
          "base_uri": "https://localhost:8080/"
        },
        "outputId": "bd44e680-7ce5-4601-dfe3-7a0779a49411"
      },
      "execution_count": null,
      "outputs": [
        {
          "output_type": "stream",
          "name": "stdout",
          "text": [
            "120\n"
          ]
        }
      ]
    },
    {
      "cell_type": "markdown",
      "source": [
        "*Question 23:* The code snippet is supposed to print the sum of integers from 1 to 10. However, it's causing an infinite loop. Identify the problem and resolve it.\n",
        "\n",
        "```\n",
        "total = 0\n",
        "i = 1\n",
        "while i <= 10:\n",
        "    total += i\n",
        "    i -= 1\n",
        "print(total)\n",
        "\n",
        "```\n",
        "\n"
      ],
      "metadata": {
        "id": "OpZnHLVWHAMj"
      }
    },
    {
      "cell_type": "code",
      "source": [
        "# Write your code here\n",
        "total = 0\n",
        "i = 1\n",
        "while i <= 10:\n",
        "    total += i\n",
        "    i += 1 # i must be added not subtracted for while loop to break\n",
        "print(total)\n"
      ],
      "metadata": {
        "id": "KH3lQCDrhzbk",
        "colab": {
          "base_uri": "https://localhost:8080/"
        },
        "outputId": "37afc1ce-4e85-4233-c7dd-2f710b9d2503"
      },
      "execution_count": null,
      "outputs": [
        {
          "output_type": "stream",
          "name": "stdout",
          "text": [
            "55\n"
          ]
        }
      ]
    },
    {
      "cell_type": "markdown",
      "source": [
        "*Question 24:* The code snippet attempts to modify a variable inside a function. However, it's not producing the desired outcome. Identify the issue and correct it.\n",
        "\n",
        "\n",
        "\n",
        "```\n",
        "def modify_variable(value):\n",
        "    value += 10\n",
        "\n",
        "number = 5\n",
        "modify_variable(number)\n",
        "print(\"The modified value is:\", number)\n",
        "\n",
        "```\n",
        "\n"
      ],
      "metadata": {
        "id": "j07b0gKoIYDC"
      }
    },
    {
      "cell_type": "code",
      "source": [
        "# Write your code here\n",
        "def modify_variable(value):\n",
        "    value += 10\n",
        "    return value # The value must be returned, it is local to the function.\n",
        "\n",
        "number = 5\n",
        "number = modify_variable(number) # The returned value must be caught, or stored\n",
        "print(\"The modified value is:\", number)"
      ],
      "metadata": {
        "id": "2Sa-7RQph2RR",
        "colab": {
          "base_uri": "https://localhost:8080/"
        },
        "outputId": "0cc86129-8640-42fc-d352-bd315edfdafc"
      },
      "execution_count": null,
      "outputs": [
        {
          "output_type": "stream",
          "name": "stdout",
          "text": [
            "The modified value is: 15\n"
          ]
        }
      ]
    },
    {
      "cell_type": "markdown",
      "source": [
        "*Question 25:* The following code defines a function to add a value to a list. However, it's not behaving as expected. Try fixing the code.\n",
        "\n",
        "\n",
        "```\n",
        "def add_to_list(my_list, value):\n",
        "    my_list = my_list.append(value)\n",
        "    return my_list\n",
        "\n",
        "numbers = [1, 2, 3]\n",
        "result = add_to_list(numbers, 4)\n",
        "print(\"Updated list:\", result)\n",
        "\n",
        "```\n",
        "\n"
      ],
      "metadata": {
        "id": "LBpWqmr4I8hg"
      }
    },
    {
      "cell_type": "code",
      "source": [
        "# Write your code here\n",
        "def add_to_list(my_list, value):\n",
        "    my_list.append(value)\n",
        "    # The append() method of a list doesn't return a value; it modifies the list\n",
        "    # in place and returns None.\n",
        "    return my_list\n",
        "\n",
        "numbers = [1, 2, 3]\n",
        "result = add_to_list(numbers, 4)\n",
        "print(\"Updated list:\", result)"
      ],
      "metadata": {
        "id": "rE_LrEjWg1y2",
        "colab": {
          "base_uri": "https://localhost:8080/"
        },
        "outputId": "a1341d7d-4435-495c-afd6-d514fe446ca0"
      },
      "execution_count": null,
      "outputs": [
        {
          "output_type": "stream",
          "name": "stdout",
          "text": [
            "Updated list: [1, 2, 3, 4]\n"
          ]
        }
      ]
    }
  ]
}