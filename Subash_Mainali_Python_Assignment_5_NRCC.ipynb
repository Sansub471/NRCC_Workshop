{
  "nbformat": 4,
  "nbformat_minor": 0,
  "metadata": {
    "colab": {
      "provenance": [],
      "collapsed_sections": [
        "xgDavWW10cRi"
      ]
    },
    "kernelspec": {
      "name": "python3",
      "display_name": "Python 3"
    },
    "language_info": {
      "name": "python"
    }
  },
  "cells": [
    {
      "cell_type": "markdown",
      "source": [
        "### MCQs"
      ],
      "metadata": {
        "id": "xgDavWW10cRi"
      }
    },
    {
      "cell_type": "markdown",
      "source": [
        "1. What Pandas function is used to display basic statistical summary information about a DataFrame?\n",
        "\n",
        "\n",
        "> a. df.describe()\n",
        "\n",
        "> b. df.info()\n",
        "\n",
        "> c. df.head()\n",
        "\n",
        "> d. df.shape()\n",
        "\n",
        "\n",
        "\n",
        "\n",
        "\n",
        "\n",
        "\n"
      ],
      "metadata": {
        "id": "snZhT4s-F-la"
      }
    },
    {
      "cell_type": "markdown",
      "source": [
        "Answer:a"
      ],
      "metadata": {
        "id": "GVugWyguQ3Tm"
      }
    },
    {
      "cell_type": "markdown",
      "source": [
        "2. How can you select a single column named \"Age\" from a DataFrame df in Pandas?\n",
        "\n",
        "\n",
        "> a. df.select(\"Age\")\n",
        "\n",
        "> b. df.get_column(\"Age\")\n",
        "\n",
        "> c. df.Age\n",
        "\n",
        "> d. df[\"Age\"]"
      ],
      "metadata": {
        "id": "J-ZCtzmXHBn7"
      }
    },
    {
      "cell_type": "markdown",
      "source": [
        "Answer:c and d"
      ],
      "metadata": {
        "id": "Jm68KPyiQ49k"
      }
    },
    {
      "cell_type": "markdown",
      "source": [
        "3. How can you select the top five rows of a specific column in a DataFrame?\n",
        "\n",
        "\n",
        "> a. df.iloc[0:5, column_name]\n",
        "\n",
        "> b. df.loc[0:5, column_index]\n",
        "\n",
        "> c. df.loc[column_name, :5]\n",
        "\n",
        "> d. df.iloc[:5, column_index]"
      ],
      "metadata": {
        "id": "SVsbc2DIHDZ7"
      }
    },
    {
      "cell_type": "markdown",
      "source": [
        "Answer:d"
      ],
      "metadata": {
        "id": "zQ3TAxHYQ6aU"
      }
    },
    {
      "cell_type": "markdown",
      "source": [
        "4. How can you read from 'data.txt' into a Pandas DataFrame, assuming Pandas has been imported?\n",
        "\n",
        "\n",
        "```\n",
        "20 22.5 27 42 John male\n",
        "40 42.5 23 53 Doe female\n",
        "45 22 34 35.5 Gulshan male\n",
        "\n",
        "```\n",
        "\n",
        "\n",
        "\n",
        "> a. df = pd.read_csv('data.txt', header=0, delim_whitespace=True)\n",
        "\n",
        "> b. df = pd.read_csv('data.txt', delimiter='\\t')\n",
        "\n",
        "> c. df = pd.read_csv('data.txt', header=None, sep=' ')\n",
        "\n",
        "> d. df = pd.read_json('data.txt')\n"
      ],
      "metadata": {
        "id": "UDeSN5A-HFWv"
      }
    },
    {
      "cell_type": "markdown",
      "source": [
        "Answer:c"
      ],
      "metadata": {
        "id": "G0ddZ7aSQ77g"
      }
    },
    {
      "cell_type": "markdown",
      "source": [
        "5. Given two NumPy arrays, `arr1` of shape (3, 1) and `arr2` of shape (3, ), what happens when you add them together?\n",
        "\n",
        "\n",
        "> a. The operation raises an error due to shape mismatch\n",
        "\n",
        "> b. The smaller array `arr1` is broadcasted to match the shape of `arr2`, and element-wise addition is performed.\n",
        "\n",
        "> c. The larger array `arr2` is broadcasted to match the shape of `arr1`, and element-wise addition is performed.\n",
        "\n",
        "> d. Broadcasting is not possible with these arrays."
      ],
      "metadata": {
        "id": "U-POvDVhHHZ6"
      }
    },
    {
      "cell_type": "markdown",
      "source": [
        "Answer:b"
      ],
      "metadata": {
        "id": "00sfgF5pQ9pb"
      }
    },
    {
      "cell_type": "markdown",
      "source": [
        "6. How can you reshape a NumPy array with shape (4, 5) into a shape (2, 10)?\n",
        "\n",
        "\n",
        "> a. You cannot reshape it to (2, 10) as it would change the number of elements\n",
        "\n",
        "> b. Use the reshape(2, 10) method\n",
        "\n",
        "> c. Use the resize(2, 10) method\n"
      ],
      "metadata": {
        "id": "jTgkE6WyHK0F"
      }
    },
    {
      "cell_type": "markdown",
      "source": [
        "Answer:b"
      ],
      "metadata": {
        "id": "jajGCLjnQ_Mu"
      }
    },
    {
      "cell_type": "markdown",
      "source": [
        "7. What type of plot is commonly used to visualize the relationships between two numerical variables?\n",
        "\n",
        "\n",
        "> a. Bar plot\n",
        "\n",
        "> b. Scatter plot\n",
        "\n",
        "> c. Histogram\n",
        "\n",
        "> d. Pie chart\n"
      ],
      "metadata": {
        "id": "eOxiRopUHNe6"
      }
    },
    {
      "cell_type": "markdown",
      "source": [
        "Answer:b"
      ],
      "metadata": {
        "id": "BwOFuCAWRO6j"
      }
    },
    {
      "cell_type": "markdown",
      "source": [
        "8. You are working with a dataset of daily website traffic for a month. You want to create a line plot to show the daily traffic trends. What should you use for the x-axis?\n",
        "\n",
        "\n",
        "> a. Dates\n",
        "\n",
        "> b. Traffic counts\n",
        "\n",
        "> c. Months\n",
        "\n",
        "> d. Website URLs"
      ],
      "metadata": {
        "id": "xJGIHvtwHPZ8"
      }
    },
    {
      "cell_type": "markdown",
      "source": [
        "Answer:a"
      ],
      "metadata": {
        "id": "EMVUjTvuRQhE"
      }
    },
    {
      "cell_type": "markdown",
      "source": [
        "9. Which plot is ideal for showing the distribution of a categorical variable or the frequency of different categories?\n",
        "\n",
        "\n",
        "> a. Scatter plot\n",
        "\n",
        "> b. Box plot\n",
        "\n",
        "> c. Bar plot\n",
        "\n",
        "> d. Density plot"
      ],
      "metadata": {
        "id": "Kh6Nuf6rHRHh"
      }
    },
    {
      "cell_type": "markdown",
      "source": [
        "Answer:c"
      ],
      "metadata": {
        "id": "udr38wgYRR1q"
      }
    },
    {
      "cell_type": "markdown",
      "source": [
        "10. When you want to visulize the spread and central tendency of a numerical variable, which plot is most suitable?\n",
        "\n",
        "\n",
        "> a. Scatter plot\n",
        "\n",
        "> b. Pie chart\n",
        "\n",
        "> c. Histogram\n",
        "\n",
        "> d. Box plot"
      ],
      "metadata": {
        "id": "KnBNtoumHSpL"
      }
    },
    {
      "cell_type": "markdown",
      "source": [
        "\n",
        "\n",
        "```\n",
        "# This is formatted as code\n",
        "```\n",
        "\n",
        "Answer: d"
      ],
      "metadata": {
        "id": "42Fm6lqcRTGH"
      }
    },
    {
      "cell_type": "markdown",
      "source": [
        "### Coding Section"
      ],
      "metadata": {
        "id": "mw-ku-BQ4fY_"
      }
    },
    {
      "cell_type": "markdown",
      "source": [
        "In this section, you will work with the renowned Iris dataset. This dataset consists measurements of four features-`Sepal Length, Sepal Width, Petal Length, Petal Width`- of three different species of iris flowers- `Iris setosa, Iris versicolor, and Iris virginica`. The length and width measurements are represented as numerical values, making the dataset suitable for practicing Data preprocessing and Exploratory data analysis."
      ],
      "metadata": {
        "id": "xeiTKB_G4xpn"
      }
    },
    {
      "cell_type": "markdown",
      "source": [
        "The below code downloads the Iris dataset on your colab directory. Please make sure you run the below cell and you can access the dataset under the Files section, after the download completes."
      ],
      "metadata": {
        "id": "NTw2kuJ3A-vm"
      }
    },
    {
      "cell_type": "code",
      "execution_count": null,
      "metadata": {
        "id": "hiE7wV7n4a1x",
        "colab": {
          "base_uri": "https://localhost:8080/"
        },
        "outputId": "5493aa8e-3b61-469b-abe2-3dbd116b9f9e"
      },
      "outputs": [
        {
          "output_type": "stream",
          "name": "stdout",
          "text": [
            "--2023-09-23 16:00:27--  https://archive.ics.uci.edu/ml/machine-learning-databases/iris/iris.data\n",
            "Resolving archive.ics.uci.edu (archive.ics.uci.edu)... 128.195.10.252\n",
            "Connecting to archive.ics.uci.edu (archive.ics.uci.edu)|128.195.10.252|:443... connected.\n",
            "HTTP request sent, awaiting response... 200 OK\n",
            "Length: unspecified\n",
            "Saving to: ‘iris.data’\n",
            "\n",
            "iris.data               [ <=>                ]   4.44K  --.-KB/s    in 0s      \n",
            "\n",
            "2023-09-23 16:00:27 (82.9 MB/s) - ‘iris.data’ saved [4551]\n",
            "\n"
          ]
        }
      ],
      "source": [
        "!wget https://archive.ics.uci.edu/ml/machine-learning-databases/iris/iris.data\n"
      ]
    },
    {
      "cell_type": "markdown",
      "source": [
        "Task 1: Load the data from the file and print top five entries. You can find the downloaded Iris dataset located at \"/content/iris.data\""
      ],
      "metadata": {
        "id": "JRSyPoHXBnfo"
      }
    },
    {
      "cell_type": "code",
      "source": [
        "# Write your code here\n",
        "import pandas as pd\n",
        "file_path = '/content/iris.data'\n",
        "\n",
        "#column names for the dataset\n",
        "column_names = [\"sepal_length\", \"sepal_width\", \"petal_length\", \"petal_width\", \"class\"]\n",
        "\n",
        "# Load the dataset into a Pandas DataFrame\n",
        "df = pd.read_csv(file_path, header=None, names=column_names)\n",
        "\n",
        "# Print the top five entries\n",
        "print(df.head())"
      ],
      "metadata": {
        "id": "I2F53SJaBuyA",
        "colab": {
          "base_uri": "https://localhost:8080/"
        },
        "outputId": "f9eba937-121d-48b6-8d5c-3bcbc1da994d"
      },
      "execution_count": null,
      "outputs": [
        {
          "output_type": "stream",
          "name": "stdout",
          "text": [
            "   sepal_length  sepal_width  petal_length  petal_width        class\n",
            "0           5.1          3.5           1.4          0.2  Iris-setosa\n",
            "1           4.9          3.0           1.4          0.2  Iris-setosa\n",
            "2           4.7          3.2           1.3          0.2  Iris-setosa\n",
            "3           4.6          3.1           1.5          0.2  Iris-setosa\n",
            "4           5.0          3.6           1.4          0.2  Iris-setosa\n"
          ]
        }
      ]
    },
    {
      "cell_type": "markdown",
      "source": [
        "Task 2: Print the following:\n",
        "\n",
        "\n",
        "1.   The number of data entries (rows)\n",
        "2.   The names of the columns\n",
        "3.   The data types for each column\n",
        "\n",
        "\n",
        "\n"
      ],
      "metadata": {
        "id": "PdgkZ4xlD_8-"
      }
    },
    {
      "cell_type": "code",
      "source": [
        "num = len(df)\n",
        "print(f\"The number of data entries (rows) is: {num}\")\n",
        "\n",
        "column_names = df.columns.tolist()\n",
        "print(\"The names of the columns are:\")\n",
        "for column_name in column_names:\n",
        "    print(column_name)\n",
        "\n",
        "data_types = df.dtypes\n",
        "print(\"The data types for each column are:\")\n",
        "print(data_types)"
      ],
      "metadata": {
        "id": "QoDiqJV3Is4p",
        "colab": {
          "base_uri": "https://localhost:8080/"
        },
        "outputId": "81663554-3f35-4a0d-e50f-465f7b0a6fd4"
      },
      "execution_count": null,
      "outputs": [
        {
          "output_type": "stream",
          "name": "stdout",
          "text": [
            "The number of data entries (rows) is: 150\n",
            "The names of the columns are:\n",
            "sepal_length\n",
            "sepal_width\n",
            "petal_length\n",
            "petal_width\n",
            "class\n",
            "The data types for each column are:\n",
            "sepal_length    float64\n",
            "sepal_width     float64\n",
            "petal_length    float64\n",
            "petal_width     float64\n",
            "class            object\n",
            "dtype: object\n"
          ]
        }
      ]
    },
    {
      "cell_type": "markdown",
      "source": [
        "Task 3: Perform the following:\n",
        "\n",
        "\n",
        "1.   Assign the given list of column names `['sepal_length', 'sepal_width', 'petal_length', 'petal_width', 'species']` to the above dataframe\n",
        "2.   Print the name of the all unique species\n",
        "3.   Print the number of each species present.\n",
        "4.   Print the mean, median, quantiles and ranges for both petal and sepal measurements\n",
        "\n",
        "\n",
        "\n"
      ],
      "metadata": {
        "id": "qTWakcjJFzeS"
      }
    },
    {
      "cell_type": "code",
      "source": [
        "# The name of all unique species\n",
        "unique_species = df['class'].unique()\n",
        "print(\"Unique species in the dataset:\")\n",
        "for species in unique_species:\n",
        "    print(species)\n",
        "\n",
        "# The number of each species present\n",
        "species_counts = df['class'].value_counts()\n",
        "print(\"\\nNumber of each species present:\")\n",
        "print(species_counts)\n",
        "\n",
        "# The mean, median, quartiles, and ranges for petal and sepal measurements\n",
        "measurement_columns = ['sepal_length', 'sepal_width', 'petal_length', 'petal_width']\n",
        "measurements = df[measurement_columns]\n",
        "\n",
        "print(\"\\nSummary statistics for petal and sepal measurements:\")\n",
        "summary_statistics = measurements.describe()\n",
        "\n",
        "# Calculate the range (max - min) for each measurement\n",
        "range_values = measurements.max() - measurements.min()\n",
        "summary_statistics.loc['range'] = range_values\n",
        "#summary statistics\n",
        "print(summary_statistics)\n"
      ],
      "metadata": {
        "id": "1cVlU5A3Ivik",
        "colab": {
          "base_uri": "https://localhost:8080/"
        },
        "outputId": "b299d36f-38a6-4a7d-e223-adf712dc38ea"
      },
      "execution_count": null,
      "outputs": [
        {
          "output_type": "stream",
          "name": "stdout",
          "text": [
            "Unique species in the dataset:\n",
            "Iris-setosa\n",
            "Iris-versicolor\n",
            "Iris-virginica\n",
            "\n",
            "Number of each species present:\n",
            "Iris-setosa        50\n",
            "Iris-versicolor    50\n",
            "Iris-virginica     50\n",
            "Name: class, dtype: int64\n",
            "\n",
            "Summary statistics for petal and sepal measurements:\n",
            "       sepal_length  sepal_width  petal_length  petal_width\n",
            "count    150.000000   150.000000    150.000000   150.000000\n",
            "mean       5.843333     3.054000      3.758667     1.198667\n",
            "std        0.828066     0.433594      1.764420     0.763161\n",
            "min        4.300000     2.000000      1.000000     0.100000\n",
            "25%        5.100000     2.800000      1.600000     0.300000\n",
            "50%        5.800000     3.000000      4.350000     1.300000\n",
            "75%        6.400000     3.300000      5.100000     1.800000\n",
            "max        7.900000     4.400000      6.900000     2.500000\n",
            "range      3.600000     2.400000      5.900000     2.400000\n"
          ]
        }
      ]
    },
    {
      "cell_type": "markdown",
      "source": [
        "Task 4: Calculate the following for each species in a separate dataframe:\n",
        "\n",
        "\n",
        "1.   The mean of each measurement (sepal_length, sepal_width, petal_length, and petal_width)\n",
        "2.   The median of each of these measurement\n",
        "\n"
      ],
      "metadata": {
        "id": "CLG-jZsuHHr7"
      }
    },
    {
      "cell_type": "code",
      "source": [
        "# df already loaded above\n",
        "grouped = df.groupby('class')\n",
        "\n",
        "# Initialize empty DataFrames to store mean and median values\n",
        "mean_df = pd.DataFrame()\n",
        "median_df = pd.DataFrame()\n",
        "\n",
        "# Calculate the mean and median for each measurement within each species group\n",
        "for measurement in ['sepal_length', 'sepal_width', 'petal_length', 'petal_width']:\n",
        "    mean_series = grouped[measurement].mean()\n",
        "    median_series = grouped[measurement].median()\n",
        "\n",
        "    # Rename the columns to include the measurement name\n",
        "    mean_series = mean_series.rename(f'{measurement}_mean')\n",
        "    median_series = median_series.rename(f'{measurement}_median')\n",
        "\n",
        "    # Add the mean and median series to the respective DataFrames\n",
        "    mean_df = pd.concat([mean_df, mean_series], axis=1)\n",
        "    median_df = pd.concat([median_df, median_series], axis=1)\n",
        "\n",
        "# Print the mean DataFrame for each species\n",
        "print(\"Mean values for each measurement by species:\")\n",
        "print(mean_df)\n",
        "\n",
        "# Print the median DataFrame for each species\n",
        "print(\"\\nMedian values for each measurement by species:\")\n",
        "print(median_df)\n"
      ],
      "metadata": {
        "id": "DgXOPDvuIyuz",
        "colab": {
          "base_uri": "https://localhost:8080/"
        },
        "outputId": "f9495167-9dd9-482b-c11b-36b1f72a40c8"
      },
      "execution_count": null,
      "outputs": [
        {
          "output_type": "stream",
          "name": "stdout",
          "text": [
            "Mean values for each measurement by species:\n",
            "                 sepal_length_mean  sepal_width_mean  petal_length_mean  \\\n",
            "Iris-setosa                  5.006             3.418              1.464   \n",
            "Iris-versicolor              5.936             2.770              4.260   \n",
            "Iris-virginica               6.588             2.974              5.552   \n",
            "\n",
            "                 petal_width_mean  \n",
            "Iris-setosa                 0.244  \n",
            "Iris-versicolor             1.326  \n",
            "Iris-virginica              2.026  \n",
            "\n",
            "Median values for each measurement by species:\n",
            "                 sepal_length_median  sepal_width_median  petal_length_median  \\\n",
            "Iris-setosa                      5.0                 3.4                 1.50   \n",
            "Iris-versicolor                  5.9                 2.8                 4.35   \n",
            "Iris-virginica                   6.5                 3.0                 5.55   \n",
            "\n",
            "                 petal_width_median  \n",
            "Iris-setosa                     0.2  \n",
            "Iris-versicolor                 1.3  \n",
            "Iris-virginica                  2.0  \n"
          ]
        }
      ]
    },
    {
      "cell_type": "markdown",
      "source": [
        "Task 5: Data Visualization and Analysis\n",
        "1. Create a scatter plot that visualizes the relationship between petal_length  vs petal_width using matplotlib. Ensure you label the axes, provide different coloring to data points of each species such as red for setosa, green for versicolor, and yellow for virginica. Give a descriptive title for the plot."
      ],
      "metadata": {
        "id": "aN3U61u_NGNs"
      }
    },
    {
      "cell_type": "code",
      "source": [
        "import matplotlib.pyplot as plt\n",
        "# Define colors for each species\n",
        "colors = {'Iris-setosa': 'red', 'Iris-versicolor': 'green', 'Iris-virginica': 'yellow'}\n",
        "\n",
        "# Create a scatter plot\n",
        "plt.figure(figsize=(10, 6))\n",
        "for species, color in colors.items():\n",
        "    species_data = df[df['class'] == species]\n",
        "    plt.scatter(species_data['petal_length'], species_data['petal_width'], label=species, color=color)\n",
        "\n",
        "plt.xlabel('Petal Length (cm)')\n",
        "plt.ylabel('Petal Width (cm)')\n",
        "plt.title('Petal Length vs. Petal Width by Species')\n",
        "\n",
        "\n",
        "plt.legend()\n",
        "plt.grid(True)\n",
        "plt.show()\n"
      ],
      "metadata": {
        "id": "xpeZqHKOCGWe",
        "colab": {
          "base_uri": "https://localhost:8080/",
          "height": 564
        },
        "outputId": "e87d3a6e-710c-421f-e67f-478ebe4696a2"
      },
      "execution_count": null,
      "outputs": [
        {
          "output_type": "display_data",
          "data": {
            "text/plain": [
              "<Figure size 1000x600 with 1 Axes>"
            ],
            "image/png": "[encoded data removed]"
          },
          "metadata": {}
        }
      ]
    },
    {
      "cell_type": "markdown",
      "source": [
        "2. Based on the scatter plot, What observations can be made regarding the relationship between petal length and petal width in the Iris dataset?"
      ],
      "metadata": {
        "id": "jjrJOOPmOAoz"
      }
    },
    {
      "cell_type": "markdown",
      "source": [
        "Answer:In short, we can say there is positive correlation between petal length, and petal width. As petal length increases, petal width also tend to increase.\n",
        "\n",
        "There are three distinct clusters in the scatter plot, these clusters suggest that different species have different ranges of petal length and petal width.\n",
        "\n",
        "The Setosa is clearly separated from the other two species, they tend to have shorter and wider petals.\n",
        "\n",
        "There is some overlap between Versicolor and Virginica, however versicolor generally have slightly shorter and narrower petals compared to virginica.\n",
        "\n"
      ],
      "metadata": {
        "id": "qxPtMri9OC2m"
      }
    },
    {
      "cell_type": "markdown",
      "source": [
        "3. Create histogram of any one of the four features. Label the axes and provide a suitable title for the histogram. Interpret the significant observations."
      ],
      "metadata": {
        "id": "VVJTg6LxBO8X"
      }
    },
    {
      "cell_type": "code",
      "source": [
        "# \"petal length\" feature for the histogram\n",
        "petal_length = df['petal_length']\n",
        "\n",
        "# Create a histogram\n",
        "plt.figure(figsize=(10, 8))\n",
        "plt.hist(petal_length, bins=20, color='skyblue', edgecolor='yellow')\n",
        "\n",
        "# Add labels and title\n",
        "plt.xlabel('Petal Length (cm)')\n",
        "plt.ylabel('Frequency')\n",
        "plt.title('Histogram of Petal Length in Iris Dataset')\n",
        "plt.grid(True)\n",
        "plt.show()\n"
      ],
      "metadata": {
        "id": "fxTnLxGWDkQp",
        "colab": {
          "base_uri": "https://localhost:8080/",
          "height": 686
        },
        "outputId": "1c44da4c-d362-4237-951d-fda7b6341b90"
      },
      "execution_count": null,
      "outputs": [
        {
          "output_type": "display_data",
          "data": {
            "text/plain": [
              "<Figure size 1000x800 with 1 Axes>"
            ],
            "image/png": "[encoded data removed]"
          },
          "metadata": {}
        }
      ]
    },
    {
      "cell_type": "markdown",
      "source": [
        "Answer:We can interpret and summarize the observations as :\n",
        "1. Distribution Shape : The distribution of petal length is approximately unimodal and right-skewed; most of the observations have petal lengths in the range of 4 to 6 cm\n",
        "\n",
        "2. Bimodal Species Separation : It's evident that there are two peaks, suggesting two different species of Iris flowers with distinct petal length characteristics. This bimodal behaviour is consistent with the observation in the scatter plot, where setosa had shorter petal lengths compared to versicolor and virginica.\n",
        "\n",
        "3. Peak Values : The tallest peak in the histogram appears to be around 1.5 cm, which likely corresponds to the setosa species. The second peak, which is broader and slightly taller, spans from approximately 4.5 cm to 5.5 cm and represents versicolor and virginica species combined."
      ],
      "metadata": {
        "id": "9FGOArjPDoOz"
      }
    },
    {
      "cell_type": "markdown",
      "source": [
        "4. Generate boxplot of all features. Label axes and provide a suitable title for the box plot. Interpret the significant findings based on those boxplots."
      ],
      "metadata": {
        "id": "qU2POTMpBd27"
      }
    },
    {
      "cell_type": "code",
      "source": [
        "# Create a boxplot for all features\n",
        "plt.figure(figsize=(20, 12))\n",
        "\n",
        "plt.style.use('ggplot')  # Apply a custom style for clarity\n",
        "\n",
        "# Create the boxplots with custom colors and widths\n",
        "boxprops = dict(linewidth=2, color='blue')\n",
        "whiskerprops = dict(linewidth=2, color='blue')\n",
        "medianprops = dict(linewidth=2, color='red')\n",
        "\n",
        "df.boxplot(column=['sepal_length', 'sepal_width', 'petal_length', 'petal_width'],\n",
        "           by='class',\n",
        "           vert=False)\n",
        "plt.xlabel('Feature')\n",
        "plt.ylabel('Measurement (cm)')\n",
        "plt.suptitle('Boxplot of Iris Dataset Features by Species', y=1.02)\n",
        "plt.grid(True)\n",
        "plt.show()"
      ],
      "metadata": {
        "id": "6foOya7mDZqM",
        "colab": {
          "base_uri": "https://localhost:8080/",
          "height": 518
        },
        "outputId": "bf79588e-1aa7-4c11-d040-1e6de2a30a70"
      },
      "execution_count": null,
      "outputs": [
        {
          "output_type": "display_data",
          "data": {
            "text/plain": [
              "<Figure size 2000x1200 with 0 Axes>"
            ]
          },
          "metadata": {}
        },
        {
          "output_type": "display_data",
          "data": {
            "text/plain": [
              "<Figure size 640x480 with 4 Axes>"
            ],
            "image/png": "[encoded data removed]"
          },
          "metadata": {}
        }
      ]
    },
    {
      "cell_type": "markdown",
      "source": [
        "\n",
        "\n",
        "```\n",
        "# This is formatted as code\n",
        "```\n",
        "\n",
        "Answer: The findings from the box-plots are:\n",
        "\n",
        "**1. Feature Range:** The boxplots show the distribution of each feature (sepal length, sepal width, petal length, and petal width) for each of the three Iris species: setosa, versicolor, and virginica.\n",
        "\n",
        "**2.Outliers: **Outliers are represented as individual data points outside the whiskers of the boxplots. For instance, in the petal width boxplot for setosa, there are a few outliers on the higher end of the distribution.\n",
        "\n",
        "**3. Species Differences:**\n",
        "\n",
        "**Setosa:** Setosa typically has shorter sepal length and width, with a smaller range of values compared to the other two species. It has significantly shorter petal length but wider petal width compared to the other species.\n",
        "\n",
        "**Versicolor: **Versicolor falls between setosa and virginica in terms of sepal length, sepal width, and petal length. Its petal width varies but is generally narrower than setosa and wider than virginica.\n",
        "\n",
        "**Virginica:** Virginica tends to have longer sepal length and petal length compared to the other two species. Its sepal width is somewhat similar to versicolor, while its petal width can be the widest among the three.\n"
      ],
      "metadata": {
        "id": "igwxDOtXDhq5"
      }
    }
  ]
}